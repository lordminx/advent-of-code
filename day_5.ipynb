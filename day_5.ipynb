{
 "cells": [
  {
   "cell_type": "markdown",
   "metadata": {},
   "source": [
    "# Advent of Code Day 5\n",
    "\n",
    "--- Day 5: A Maze of Twisty Trampolines, All Alike ---\n",
    "\n",
    "An urgent interrupt arrives from the CPU: it's trapped in a maze of jump instructions, and it would like assistance from any programs with spare cycles to help find the exit.\n",
    "\n",
    "The message includes a list of the offsets for each jump. Jumps are relative: -1 moves to the previous instruction, and 2 skips the next one. Start at the first instruction in the list. The goal is to follow the jumps until one leads outside the list.\n",
    "\n",
    "In addition, these instructions are a little strange; after each jump, the offset of that instruction increases by 1. So, if you come across an offset of 3, you would move three instructions forward, but change it to a 4 for the next time it is encountered.\n",
    "\n",
    "For example, consider the following list of jump offsets:\n",
    "\n",
    "0\n",
    "3\n",
    "0\n",
    "1\n",
    "-3\n",
    "\n",
    "Positive jumps (\"forward\") move downward; negative jumps move upward. For legibility in this example, these offset values will be written all on one line, with the current instruction marked in parentheses. The following steps would be taken before an exit is found:\n",
    "\n",
    "    (0) 3  0  1  -3  - before we have taken any steps.\n",
    "    (1) 3  0  1  -3  - jump with offset 0 (that is, don't jump at all). Fortunately, the instruction is then incremented to 1.\n",
    "     2 (3) 0  1  -3  - step forward because of the instruction we just modified. The first instruction is incremented again, now to 2.\n",
    "     2  4  0  1 (-3) - jump all the way to the end; leave a 4 behind.\n",
    "     2 (4) 0  1  -2  - go back to where we just were; increment -3 to -2.\n",
    "     2  5  0  1  -2  - jump 4 steps forward, escaping the maze.\n",
    "\n",
    "In this example, the exit is reached in 5 steps.\n",
    "\n",
    "How many steps does it take to reach the exit?\n",
    "\n",
    "--------------\n",
    "\n",
    "Ok, that seems kinda Turing-Machine-y but we'll see where that goes. :)"
   ]
  },
  {
   "cell_type": "code",
   "execution_count": 24,
   "metadata": {},
   "outputs": [
    {
     "name": "stdout",
     "output_type": "stream",
     "text": [
      "2\n",
      "0\n",
      "-1\n",
      "0\n",
      "-2\n",
      "-2\n",
      "0\n",
      "-5\n",
      "-6\n",
      "1\n",
      "-4\n",
      "-3\n",
      "1\n",
      "-2\n",
      "-4\n",
      "-\n"
     ]
    },
    {
     "data": {
      "text/plain": [
       "[2, 0, -1, 0]"
      ]
     },
     "execution_count": 24,
     "metadata": {},
     "output_type": "execute_result"
    }
   ],
   "source": [
    "# load input file and massage it a bit to get a list of integers.\n",
    "\n",
    "with open(\"day_5_input.txt\") as f:\n",
    "    i = f.read()\n",
    "\n",
    "print(i[:40])\n",
    "jumps = [int(x.strip()) for x in i.split()]\n",
    "\n",
    "jumps[:4]"
   ]
  },
  {
   "cell_type": "markdown",
   "metadata": {},
   "source": [
    "Ok, so let's get the basic functionality going.\n",
    "\n",
    "We want to jump around in this list until a jump would lead outside of the list. So we'll probably want a function for that."
   ]
  },
  {
   "cell_type": "code",
   "execution_count": 18,
   "metadata": {
    "collapsed": true
   },
   "outputs": [],
   "source": [
    "def jump(jumps, current=0):\n",
    "    steps_taken = 0\n",
    "    \n",
    "    \n",
    "    while True:\n",
    "        try:\n",
    "            # get numper of steps to jump\n",
    "            steps = jumps[current]\n",
    "        except IndexError:\n",
    "            # Oops, wer're looking outside the list, guess we're done\n",
    "            return steps_taken\n",
    "        \n",
    "        \n",
    "        # increment the value at the current location\n",
    "        jumps[current] += 1\n",
    "    \n",
    "        # increment the number of jumps\n",
    "        steps_taken += 1\n",
    "        \n",
    "        # set the next location to look\n",
    "        current += steps\n",
    "    \n",
    "    "
   ]
  },
  {
   "cell_type": "code",
   "execution_count": 21,
   "metadata": {},
   "outputs": [
    {
     "data": {
      "text/plain": [
       "396086"
      ]
     },
     "execution_count": 21,
     "metadata": {},
     "output_type": "execute_result"
    }
   ],
   "source": [
    "jump(jumps)"
   ]
  },
  {
   "cell_type": "markdown",
   "metadata": {},
   "source": [
    "--- Part Two ---\n",
    "\n",
    "Now, the jumps are even stranger: after each jump, if the offset was three or more, instead decrease it by 1. Otherwise, increase it by 1 as before.\n",
    "\n",
    "Using this rule with the above example, the process now takes 10 steps, and the offset values after finding the exit are left as 2 3 2 3 -1.\n",
    "\n",
    "How many steps does it now take to reach the exit?"
   ]
  },
  {
   "cell_type": "code",
   "execution_count": 22,
   "metadata": {
    "collapsed": true
   },
   "outputs": [],
   "source": [
    "def strange_jump(jumps, current=0):\n",
    "    steps_taken = 0\n",
    "    \n",
    "    \n",
    "    while True:\n",
    "        try:\n",
    "            # get numper of steps to jump\n",
    "            steps = jumps[current]\n",
    "        except IndexError:\n",
    "            # Oops, wer're looking outside the list, guess we're done\n",
    "            return steps_taken\n",
    "        \n",
    "        if steps >= 3:\n",
    "            # if the offset was three or more, instead decrease it by 1\n",
    "            jumps[current] += -1\n",
    "        else:\n",
    "            # increment the value at the current location\n",
    "            jumps[current] += 1\n",
    "        \n",
    "        # increment the number of jumps\n",
    "        steps_taken += 1\n",
    "        \n",
    "        # set the next location to look\n",
    "        current += steps"
   ]
  },
  {
   "cell_type": "code",
   "execution_count": 25,
   "metadata": {},
   "outputs": [
    {
     "data": {
      "text/plain": [
       "28675390"
      ]
     },
     "execution_count": 25,
     "metadata": {},
     "output_type": "execute_result"
    }
   ],
   "source": [
    "# since our list of values is changed, let's get a fresh copy from the original string\n",
    "jumps = [int(x.strip()) for x in i.split()]\n",
    "\n",
    "\n",
    "strange_jump(jumps)"
   ]
  }
 ],
 "metadata": {
  "kernelspec": {
   "display_name": "Python 3",
   "language": "python",
   "name": "python3"
  },
  "language_info": {
   "codemirror_mode": {
    "name": "ipython",
    "version": 3
   },
   "file_extension": ".py",
   "mimetype": "text/x-python",
   "name": "python",
   "nbconvert_exporter": "python",
   "pygments_lexer": "ipython3",
   "version": "3.6.2"
  }
 },
 "nbformat": 4,
 "nbformat_minor": 2
}
