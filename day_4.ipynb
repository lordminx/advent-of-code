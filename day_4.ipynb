{
 "cells": [
  {
   "cell_type": "markdown",
   "metadata": {},
   "source": [
    "# Advent of Code - Day 4\n",
    "\n",
    "\n",
    "> --- Day 4: High-Entropy Passphrases ---\n",
    ">\n",
    "> A new system policy has been put in place that requires all accounts to use a passphrase instead of simply a password. A passphrase consists of a series of words (lowercase letters) separated by spaces.\n",
    ">\n",
    "> To ensure security, a valid passphrase must contain no duplicate words.\n",
    ">\n",
    "> For example:\n",
    ">\n",
    ">    aa bb cc dd ee is valid.\n",
    ">    aa bb cc dd aa is not valid - the word aa appears more than once.\n",
    ">    aa bb cc dd aaa is valid - aa and aaa count as different words.\n",
    ">\n",
    "> The system's full passphrase list is available as your puzzle input. How many passphrases are valid?\n"
   ]
  },
  {
   "cell_type": "code",
   "execution_count": 1,
   "metadata": {},
   "outputs": [
    {
     "name": "stdout",
     "output_type": "stream",
     "text": [
      "bdwdjjo avricm cjbmj ran lmfsom ivsof\n",
      "mxonybc fndyzzi gmdp gdfyoi inrvhr kpuueel wdpga vkq\n",
      "bneh ylltsc vhryov lsd hmruxy ebnh pdln vdprrky\n"
     ]
    }
   ],
   "source": [
    "# load puzzle input from the file I saved it to earlier\n",
    "\n",
    "with open(\"day_4_input.txt\", \"r\") as f:\n",
    "    puzzle = f.read()\n",
    "\n",
    "# Quick check if it loaded correctly.\n",
    "print(puzzle[:138])"
   ]
  },
  {
   "cell_type": "code",
   "execution_count": 2,
   "metadata": {},
   "outputs": [
    {
     "data": {
      "text/plain": [
       "[['bdwdjjo', 'avricm', 'cjbmj', 'ran', 'lmfsom', 'ivsof'],\n",
       " ['mxonybc', 'fndyzzi', 'gmdp', 'gdfyoi', 'inrvhr', 'kpuueel', 'wdpga', 'vkq'],\n",
       " ['bneh', 'ylltsc', 'vhryov', 'lsd', 'hmruxy', 'ebnh', 'pdln', 'vdprrky']]"
      ]
     },
     "execution_count": 2,
     "metadata": {},
     "output_type": "execute_result"
    }
   ],
   "source": [
    "# get a list of lines from the input\n",
    "lines = puzzle.split(\"\\n\")\n",
    "\n",
    "# split those lines into list of words, thus getting a list of lists\n",
    "phrases = [line.split() for line in lines]\n",
    "\n",
    "# another quick check\n",
    "phrases[:3]"
   ]
  },
  {
   "cell_type": "markdown",
   "metadata": {},
   "source": [
    "So now we have our data in nicely iterable form, so we can start on working on a way to validate those passphrases."
   ]
  },
  {
   "cell_type": "code",
   "execution_count": 3,
   "metadata": {
    "collapsed": true
   },
   "outputs": [],
   "source": [
    "def validator(line):\n",
    "    \"\"\"Test a passhphrase for validity.\n",
    "    \n",
    "    A passphrase is defined as valid when all the words in it are unique.\"\"\"\n",
    "    \n",
    "    # get number of words in passphrase\n",
    "    length = len(line)\n",
    "    \n",
    "    # convert the passphrase (ie. a list of words) to a set, thus filtering out any duplicates\n",
    "    line = set(line)\n",
    "    \n",
    "    # check if the original number of words and the number of unique words are the same\n",
    "    # if they are, the passphrase contains only unique words and is thus valid\n",
    "    return length == len(line)"
   ]
  },
  {
   "cell_type": "markdown",
   "metadata": {},
   "source": [
    "We should maybe test that function"
   ]
  },
  {
   "cell_type": "code",
   "execution_count": 4,
   "metadata": {
    "collapsed": true
   },
   "outputs": [],
   "source": [
    "valid_phrase = [\"ick\", \"bin\", \"ein\", \"berliner\"]\n",
    "\n",
    "invalid_phrase = [\"was\", \"sein\", \"muss\", \"muss\", \"sein\"]\n",
    "\n",
    "assert validator(valid_phrase) == True\n",
    "\n",
    "assert validator(invalid_phrase) == False"
   ]
  },
  {
   "cell_type": "markdown",
   "metadata": {},
   "source": [
    "Cool, no exceptions, so it works.\n",
    "\n",
    "Now we can see how many valid passphrases there are in the puzzle input."
   ]
  },
  {
   "cell_type": "code",
   "execution_count": 5,
   "metadata": {},
   "outputs": [
    {
     "name": "stdout",
     "output_type": "stream",
     "text": [
      "There are 455 valid passphrases in the puzzle input.\n"
     ]
    }
   ],
   "source": [
    "# check validity for the list of passphrases, which gets us a list of Bool values\n",
    "checks = [validator(phrase) for phrase in phrases]\n",
    "\n",
    "# Since truth values in python are implemented as integers (1 for True, 0 for False),\n",
    "# we can just sum them to get the number of valid ones\n",
    "valid = sum(checks)\n",
    "\n",
    "print(\"There are {} valid passphrases in the puzzle input.\".format(valid))"
   ]
  },
  {
   "cell_type": "markdown",
   "metadata": {},
   "source": [
    "## Part Two \n",
    "\n",
    "> For added security, yet another system policy has been put in place. Now, a valid passphrase must contain no two words that are anagrams of each other - that is, a passphrase is invalid if any word's letters can be rearranged to form any other word in the passphrase.\n",
    ">\n",
    "> For example:\n",
    ">\n",
    ">    abcde fghij is a valid passphrase.\n",
    ">    abcde xyz ecdab is not valid - the letters from the third word can be rearranged to form the first word.\n",
    ">    a ab abc abd abf abj is a valid passphrase, because all letters need to be used when forming another word.\n",
    ">    iiii oiii ooii oooi oooo is valid.\n",
    ">    oiii ioii iioi iiio is not valid - any of these words can be rearranged to form any other word.\n",
    ">\n",
    "> Under this new system policy, how many passphrases are valid?\n"
   ]
  },
  {
   "cell_type": "markdown",
   "metadata": {},
   "source": [
    "There are many ways to check for anagrams, but for this I'll choose an easy (Though maybe not the most efficient.) one.\n",
    "\n",
    "Since we don't, actually, care about the passphrases themselves, we'll just sort the letters making up the words in the passphrases before feeding it into out original valicator. Words that were not identical to begin with but are anagrams of each other would then be identical and thus fail."
   ]
  },
  {
   "cell_type": "code",
   "execution_count": 6,
   "metadata": {
    "collapsed": true
   },
   "outputs": [],
   "source": [
    "def letter_sorter(word):\n",
    "    \"Sort the letters in a Word.\"\n",
    "    return \"\".join(sorted(word))\n",
    "\n",
    "def anagram_validator(passphrase):\n",
    "    # first sort the letters in all the words\n",
    "    passphrase = [letter_sorter(word) for word in passphrase]\n",
    "    \n",
    "    # then run it through the original validator\n",
    "    return validator(passphrase)\n"
   ]
  },
  {
   "cell_type": "markdown",
   "metadata": {},
   "source": [
    "Now we can do that for all the passphrases again:"
   ]
  },
  {
   "cell_type": "code",
   "execution_count": 7,
   "metadata": {},
   "outputs": [
    {
     "name": "stdout",
     "output_type": "stream",
     "text": [
      "There are 186 valid passphrases in the puzzle input.\n"
     ]
    }
   ],
   "source": [
    "# check validity for the list of passphrases, which gets us a list of Bool values\n",
    "checks = [anagram_validator(phrase) for phrase in phrases]\n",
    "\n",
    "# Since truth values in python are implemented as integers (1 for True, 0 for False),\n",
    "# we can just sum them to get the number of valid ones\n",
    "valid = sum(checks)\n",
    "\n",
    "print(\"There are {} valid passphrases in the puzzle input.\".format(valid))"
   ]
  },
  {
   "cell_type": "markdown",
   "metadata": {},
   "source": [
    "Aaaand we're done! \\o/"
   ]
  }
 ],
 "metadata": {
  "kernelspec": {
   "display_name": "Python 3",
   "language": "python",
   "name": "python3"
  },
  "language_info": {
   "codemirror_mode": {
    "name": "ipython",
    "version": 3
   },
   "file_extension": ".py",
   "mimetype": "text/x-python",
   "name": "python",
   "nbconvert_exporter": "python",
   "pygments_lexer": "ipython3",
   "version": "3.6.2"
  }
 },
 "nbformat": 4,
 "nbformat_minor": 2
}
